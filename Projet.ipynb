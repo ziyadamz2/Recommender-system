{
  "cells": [
    {
      "cell_type": "markdown",
      "source": [
        "# Dans le cadre de ce projet, nous avons pour objectif de construire **un** système de recommandation de films à partir du jeu de données MovieLens. Ce dataset regroupe plus de 26 millions de notes attribuées par 270 000 utilisateurs à environ 45 000 films. Le projet s’inscrit dans une logique d’analyse de données à grande échelle via Apache Spark (PySpark), et inclut plusieurs étapes : prétraitement, visualisation, modélisation par régression, et recommandation par filtrage collaboratif. Ce notebook documente les différentes étapes réalisées, les choix techniques effectués, ainsi que les observations et résultats obtenus."
      ],
      "metadata": {
        "id": "X6RPlmJ4iQVD"
      }
    },
    {
      "cell_type": "markdown",
      "source": [
        "# Dans cette cellule, nous importons l'ensemble des bibliothèques nécessaires pour le traitement de données en Spark (PySpark), ainsi que pour la visualisation (Matplotlib). Ces bibliothèques nous permettront de manipuler les DataFrames Spark, de réaliser des transformations, d'entraîner des modèles de régression, et d'évaluer les performances.**texte en gras**"
      ],
      "metadata": {
        "id": "lSjMQ1lQiQH6"
      }
    },
    {
      "cell_type": "code",
      "execution_count": 1,
      "metadata": {
        "id": "F7eQEeWPKd8U"
      },
      "outputs": [],
      "source": [
        "\n",
        "import matplotlib.pyplot as plt\n",
        "from pyspark.sql import SparkSession\n",
        "from collections import Counter\n",
        "from pyspark.sql.types import StructType, StructField, StringType, IntegerType, DoubleType\n",
        "from pyspark.ml.feature import VectorAssembler, StringIndexer\n",
        "from pyspark.ml.regression import LinearRegression\n",
        "from pyspark.sql.functions import *\n",
        "from pyspark.ml.evaluation import *\n",
        "from pyspark.ml.feature import *\n",
        "from pyspark.ml import Pipeline\n",
        "from pyspark.sql import functions as F\n",
        "from pyspark.sql.functions import col, when, isnull"
      ]
    },
    {
      "cell_type": "markdown",
      "metadata": {
        "id": "IqQ952oOQOZy"
      },
      "source": [
        "**1**"
      ]
    },
    {
      "cell_type": "markdown",
      "source": [
        "# Définition des schémas pour les fichiers CSV :\n",
        "# - ratings_schema : note attribuée par un utilisateur à un film, avec horodatage.\n",
        "# - movies_schema : informations de base sur les films (titre et genre).\n",
        "# - users_schema : informations démographiques des utilisateurs.\n",
        "# Ces schémas assurent un chargement structuré et typé des données.\n"
      ],
      "metadata": {
        "id": "tchF8166iuvs"
      }
    },
    {
      "cell_type": "code",
      "execution_count": 2,
      "metadata": {
        "id": "o-nZU8666O1i"
      },
      "outputs": [],
      "source": [
        "ratings_schema = StructType([\n",
        "    StructField(\"Userid\", IntegerType(), True),\n",
        "    StructField(\"Movieid\",IntegerType(), True),\n",
        "    StructField(\"Rating\", IntegerType(), True),\n",
        "    StructField(\"Timestamp\",IntegerType(), True),\n",
        "\n",
        "])\n",
        "\n",
        "movies_schema = StructType([\n",
        "    StructField(\"Movieid\",IntegerType(), True),\n",
        "    StructField(\"Title\", StringType(), True),\n",
        "    StructField(\"Genre\", StringType(), True)\n",
        "\n",
        "])\n",
        "\n",
        "users_schema = StructType([\n",
        "    StructField(\"Userid\", IntegerType(), True),\n",
        "    StructField(\"Gender\", StringType(), True),\n",
        "    StructField(\"Age\", IntegerType(), True),\n",
        "    StructField(\"Occupation\", StringType(), True),\n",
        "    StructField(\"Zip-code\", StringType(), True)\n",
        "])"
      ]
    },
    {
      "cell_type": "markdown",
      "source": [
        "# Initialisation de la session Spark et chargement des fichiers CSV :\n",
        "# - ratings.csv : notes des utilisateurs\n",
        "# - movies.csv : informations sur les films\n",
        "# - users.csv : données démographiques des utilisateurs\n",
        "# Les schémas définis précédemment sont utilisés pour un chargement structuré.\n"
      ],
      "metadata": {
        "id": "nPnElZRMjd6j"
      }
    },
    {
      "cell_type": "code",
      "execution_count": 3,
      "metadata": {
        "id": "fbFiOzNX4TPD"
      },
      "outputs": [],
      "source": [
        "spark = SparkSession.builder.appName(\"filmRatingPrediction\").getOrCreate()\n",
        "ratings_df = spark.read.csv(\"ratings.csv\", header=True, schema=ratings_schema)\n",
        "movies_df = spark.read.csv(\"movies.csv\", header=True, schema=movies_schema)\n",
        "users_df = spark.read.csv(\"users.csv\", header=True, schema=users_schema)\n",
        "\n"
      ]
    },
    {
      "cell_type": "markdown",
      "source": [
        "# Fusion des trois DataFrames :\n",
        "# 1. Jointure ratings ↔ movies sur Movieid\n",
        "# 2. Puis jointure avec users sur Userid\n",
        "# Résultat : un seul DataFrame combiné avec toutes les informations nécessaires.\n"
      ],
      "metadata": {
        "id": "IzWJmocvjt5N"
      }
    },
    {
      "cell_type": "code",
      "execution_count": 4,
      "metadata": {
        "id": "gGdhdYIb4vpK"
      },
      "outputs": [],
      "source": [
        "dataset = ratings_df.join(movies_df, on='Movieid', how='inner')\n",
        "dataset = dataset.join(users_df, on='Userid', how='inner')"
      ]
    },
    {
      "cell_type": "markdown",
      "metadata": {
        "id": "ypgwul1JH45R"
      },
      "source": [
        "## Informations supplémentaires sur les variables Age et Occupation\n",
        "\n",
        "# Age is chosen from the following ranges:\n",
        "## 1:  \"Under 18\"\n",
        "## 18: \"18-24\"\n",
        "## 25: \"25-34\"\n",
        "## 35: \"35-44\"\n",
        "## 45: \"45-49\"\n",
        "## 50: \"50-55\"\n",
        "## 6: \"56+\"\n",
        "\n",
        "## Occupation is chosen from the following choices:\n",
        "##0:  \"other\" or not specified\n",
        "## 1:  \"academic/educator\"\n",
        "## 2:  \"artist\"\n",
        "## 3:  \"clerical/admin\"\n",
        "## 4:  \"college/grad student\"\n",
        "## 5:  \"customer service\"\n",
        "## 6:  \"doctor/health care\"\n",
        "## 7:  \"executive/managerial\"\n",
        "## 8:  \"farmer\"\n",
        "## 9:  \"homemaker\"\n",
        "## 10: \"K-12 student\"\n",
        "## 11: \"lawyer\"\n",
        "## 12: \"programmer\"\n",
        "## 13: \"retired\"\n",
        "## 14: \"sales/marketing\"\n",
        "## 15: \"scientist\"\n",
        "## 16: \"self-employed\"\n",
        "## 17: \"technician/engineer\"\n",
        "##1 8: \"tradesman/craftsman\"\n",
        "## 19: \"unemployed\"\n",
        "## 20: \"writer\"\n"
      ]
    },
    {
      "cell_type": "code",
      "execution_count": 5,
      "metadata": {
        "colab": {
          "base_uri": "https://localhost:8080/"
        },
        "id": "CsWgSmeiAxez",
        "outputId": "19e646f4-cb4d-44ab-d706-bf52cce7ca1a"
      },
      "outputs": [
        {
          "output_type": "stream",
          "name": "stdout",
          "text": [
            "+---+------+\n",
            "|Age| count|\n",
            "+---+------+\n",
            "| 56| 38780|\n",
            "| 50| 72490|\n",
            "| 45| 83633|\n",
            "| 35|199003|\n",
            "| 25|395556|\n",
            "| 18|183536|\n",
            "|  1| 27211|\n",
            "+---+------+\n",
            "\n"
          ]
        }
      ],
      "source": [
        " dataset.groupBy(\"Age\").count().orderBy('Age', ascending=False).show()"
      ]
    },
    {
      "cell_type": "code",
      "execution_count": 6,
      "metadata": {
        "colab": {
          "base_uri": "https://localhost:8080/"
        },
        "id": "nSBxannIE5Js",
        "outputId": "b3223087-fbb8-4d8c-db0d-16fa02dfd381"
      },
      "outputs": [
        {
          "output_type": "stream",
          "name": "stdout",
          "text": [
            "+------+------+\n",
            "|Gender| count|\n",
            "+------+------+\n",
            "|     M|753769|\n",
            "|     F|246440|\n",
            "+------+------+\n",
            "\n"
          ]
        }
      ],
      "source": [
        " dataset.groupBy(\"Gender\").count().orderBy('count', ascending=False).show()"
      ]
    },
    {
      "cell_type": "code",
      "execution_count": 7,
      "metadata": {
        "colab": {
          "base_uri": "https://localhost:8080/"
        },
        "id": "FSvx41svE_CB",
        "outputId": "ce70e9c2-e8ed-4207-97d3-41449a059e9b"
      },
      "outputs": [
        {
          "output_type": "stream",
          "name": "stdout",
          "text": [
            "+------+------+\n",
            "|Rating| count|\n",
            "+------+------+\n",
            "|     4|348971|\n",
            "|     3|261197|\n",
            "|     5|226310|\n",
            "|     2|107557|\n",
            "|     1| 56174|\n",
            "+------+------+\n",
            "\n"
          ]
        }
      ],
      "source": [
        " dataset.groupBy(\"Rating\").count().orderBy('count', ascending=False).show()"
      ]
    },
    {
      "cell_type": "code",
      "source": [
        "dataset.select(F.mean('Rating')).show()\n",
        "\n",
        "median_age = dataset.approxQuantile(\"Rating\", [0.5], 0.0)[0]\n",
        "print(f\"Médiane de la colonne 'Rating' : {median_age}\")"
      ],
      "metadata": {
        "colab": {
          "base_uri": "https://localhost:8080/"
        },
        "id": "vJniINJtFLcz",
        "outputId": "3eb4df40-7f01-4714-9f25-888f779de6a8"
      },
      "execution_count": 8,
      "outputs": [
        {
          "output_type": "stream",
          "name": "stdout",
          "text": [
            "+-----------------+\n",
            "|      avg(Rating)|\n",
            "+-----------------+\n",
            "|3.581564453029317|\n",
            "+-----------------+\n",
            "\n",
            "Médiane de la colonne 'Rating' : 4.0\n"
          ]
        }
      ]
    },
    {
      "cell_type": "code",
      "execution_count": 9,
      "metadata": {
        "colab": {
          "base_uri": "https://localhost:8080/"
        },
        "id": "np4Lar9uF4Df",
        "outputId": "f36de2fc-66f6-4ec2-da0d-03cfef5be24c"
      },
      "outputs": [
        {
          "output_type": "stream",
          "name": "stdout",
          "text": [
            "+----------+------+\n",
            "|Occupation| count|\n",
            "+----------+------+\n",
            "|         4|131032|\n",
            "|         0|130499|\n",
            "|         7|105425|\n",
            "|         1| 85351|\n",
            "|        17| 72816|\n",
            "|        20| 60397|\n",
            "|        12| 57214|\n",
            "|         2| 50068|\n",
            "|        14| 49109|\n",
            "|        16| 46021|\n",
            "|         6| 37205|\n",
            "|         3| 31623|\n",
            "|        10| 23290|\n",
            "|        15| 22951|\n",
            "|         5| 21850|\n",
            "|        11| 20563|\n",
            "|        19| 14904|\n",
            "|        13| 13754|\n",
            "|        18| 12086|\n",
            "|         9| 11345|\n",
            "+----------+------+\n",
            "only showing top 20 rows\n",
            "\n"
          ]
        }
      ],
      "source": [
        " dataset.groupBy(\"Occupation\").count().orderBy('count', ascending=False).show()"
      ]
    },
    {
      "cell_type": "code",
      "execution_count": 10,
      "metadata": {
        "colab": {
          "base_uri": "https://localhost:8080/"
        },
        "id": "UxHLMM5V4xha",
        "outputId": "fb50ed4f-754c-41a3-ca33-d67d585afb33"
      },
      "outputs": [
        {
          "output_type": "stream",
          "name": "stdout",
          "text": [
            "+------+-------+------+---------+--------------------+--------------------+------+---+----------+--------+\n",
            "|Userid|Movieid|Rating|Timestamp|               Title|               Genre|Gender|Age|Occupation|Zip-code|\n",
            "+------+-------+------+---------+--------------------+--------------------+------+---+----------+--------+\n",
            "|     1|   1193|     5|978300760|One Flew Over the...|               Drama|     F|  1|        10|   48067|\n",
            "|     1|    661|     3|978302109|James and the Gia...|Animation|Childre...|     F|  1|        10|   48067|\n",
            "|     1|    914|     3|978301968| My Fair Lady (1964)|     Musical|Romance|     F|  1|        10|   48067|\n",
            "|     1|   3408|     4|978300275|Erin Brockovich (...|               Drama|     F|  1|        10|   48067|\n",
            "|     1|   2355|     5|978824291|Bug's Life, A (1998)|Animation|Childre...|     F|  1|        10|   48067|\n",
            "+------+-------+------+---------+--------------------+--------------------+------+---+----------+--------+\n",
            "only showing top 5 rows\n",
            "\n"
          ]
        }
      ],
      "source": [
        "dataset.show(5)"
      ]
    },
    {
      "cell_type": "markdown",
      "metadata": {
        "id": "ahiPNsljAwhX"
      },
      "source": [
        "###  - Moyenne et médiane des notes par utilisateur (Avg_User_Rating, Median_User_Rating)\n",
        "### - Moyenne et médiane des notes par film (Avg_Movie_Rating, Median_Movie_Rating)\n",
        "### Ces informations enrichissent le dataset pour une future analyse ou modélisation.\n"
      ]
    },
    {
      "cell_type": "code",
      "execution_count": 11,
      "metadata": {
        "id": "7P6p85UwAe0X"
      },
      "outputs": [],
      "source": [
        "user_ratings = dataset.groupBy(\"Userid\").agg(\n",
        "    avg(\"Rating\").alias(\"Avg_User_Rating\"),\n",
        "    percentile_approx(\"Rating\", 0.5).alias(\"Median_User_Rating\")\n",
        ")\n",
        "\n",
        "film_ratings = dataset.groupBy(\"Movieid\").agg(\n",
        "    avg(\"Rating\").alias(\"Avg_Movie_Rating\"),\n",
        "    percentile_approx(\"Rating\", 0.5).alias(\"Median_Movie_Rating\")\n",
        ")\n",
        "dataset = dataset.join(film_ratings, on='Movieid', how='inner')\n",
        "dataset = dataset.join(user_ratings, on='Userid', how='inner')"
      ]
    },
    {
      "cell_type": "markdown",
      "source": [
        "# Affichage des premières lignes du dataset enrichi avec les nouvelles colonnes de statistiques.\n"
      ],
      "metadata": {
        "id": "TBd-H2FulHPa"
      }
    },
    {
      "cell_type": "code",
      "execution_count": 12,
      "metadata": {
        "colab": {
          "base_uri": "https://localhost:8080/"
        },
        "id": "j2vhoyL3COTJ",
        "outputId": "ebb5ce43-e928-43bc-caaa-846d2215c283"
      },
      "outputs": [
        {
          "output_type": "stream",
          "name": "stdout",
          "text": [
            "+------+-------+------+---------+--------------------+--------------------+------+---+----------+--------+------------------+-------------------+-----------------+------------------+\n",
            "|Userid|Movieid|Rating|Timestamp|               Title|               Genre|Gender|Age|Occupation|Zip-code|  Avg_Movie_Rating|Median_Movie_Rating|  Avg_User_Rating|Median_User_Rating|\n",
            "+------+-------+------+---------+--------------------+--------------------+------+---+----------+--------+------------------+-------------------+-----------------+------------------+\n",
            "|     1|      1|     5|978824268|    Toy Story (1995)|Animation|Childre...|     F|  1|        10|   48067| 4.146846413095811|                  4|4.188679245283019|                 4|\n",
            "|     1|     48|     5|978824351|   Pocahontas (1995)|Animation|Childre...|     F|  1|        10|   48067|2.9764397905759163|                  3|4.188679245283019|                 4|\n",
            "|     1|    531|     4|978302149|Secret Garden, Th...|    Children's|Drama|     F|  1|        10|   48067| 3.769230769230769|                  4|4.188679245283019|                 4|\n",
            "|     1|    588|     4|978824268|      Aladdin (1992)|Animation|Childre...|     F|  1|        10|   48067| 3.788304959289415|                  4|4.188679245283019|                 4|\n",
            "|     1|    594|     4|978302268|Snow White and th...|Animation|Childre...|     F|  1|        10|   48067|3.8453473132372213|                  4|4.188679245283019|                 4|\n",
            "|     1|    914|     3|978301968| My Fair Lady (1964)|     Musical|Romance|     F|  1|        10|   48067| 4.154088050314465|                  4|4.188679245283019|                 4|\n",
            "|     1|    919|     4|978301368|Wizard of Oz, The...|Adventure|Childre...|     F|  1|        10|   48067| 4.247962747380675|                  4|4.188679245283019|                 4|\n",
            "|     1|   1028|     5|978301777| Mary Poppins (1964)|Children's|Comedy...|     F|  1|        10|   48067| 3.894164193867458|                  4|4.188679245283019|                 4|\n",
            "|     1|   1029|     5|978302205|        Dumbo (1941)|Animation|Childre...|     F|  1|        10|   48067| 3.688380281690141|                  4|4.188679245283019|                 4|\n",
            "|     1|   1035|     5|978301753|Sound of Music, T...|             Musical|     F|  1|        10|   48067| 3.931972789115646|                  4|4.188679245283019|                 4|\n",
            "|     1|   1197|     3|978302268|Princess Bride, T...|Action|Adventure|...|     F|  1|        10|   48067|4.3037100949094045|                  5|4.188679245283019|                 4|\n",
            "|     1|   1207|     4|978300719|To Kill a Mocking...|               Drama|     F|  1|        10|   48067| 4.425646551724138|                  5|4.188679245283019|                 4|\n",
            "|     1|   1270|     5|978300055|Back to the Futur...|       Comedy|Sci-Fi|     F|  1|        10|   48067|3.9903213317847466|                  4|4.188679245283019|                 4|\n",
            "|     1|   1721|     4|978300055|      Titanic (1997)|       Drama|Romance|     F|  1|        10|   48067|3.5834411384217333|                  4|4.188679245283019|                 4|\n",
            "|     1|   1961|     5|978301590|     Rain Man (1988)|               Drama|     F|  1|        10|   48067| 4.053383458646617|                  4|4.188679245283019|                 4|\n",
            "|     1|   2018|     4|978301777|        Bambi (1942)|Animation|Children's|     F|  1|        10|   48067| 3.738539898132428|                  4|4.188679245283019|                 4|\n",
            "|     1|   2294|     4|978824291|         Antz (1998)|Animation|Children's|     F|  1|        10|   48067| 3.483720930232558|                  4|4.188679245283019|                 4|\n",
            "|     1|   2355|     5|978824291|Bug's Life, A (1998)|Animation|Childre...|     F|  1|        10|   48067| 3.854374633000587|                  4|4.188679245283019|                 4|\n",
            "|     1|   2398|     4|978302281|Miracle on 34th S...|               Drama|     F|  1|        10|   48067| 3.960526315789474|                  4|4.188679245283019|                 4|\n",
            "|     1|   2692|     4|978301570|Run Lola Run (Lol...|Action|Crime|Romance|     F|  1|        10|   48067| 4.224813432835821|                  4|4.188679245283019|                 4|\n",
            "+------+-------+------+---------+--------------------+--------------------+------+---+----------+--------+------------------+-------------------+-----------------+------------------+\n",
            "only showing top 20 rows\n",
            "\n"
          ]
        }
      ],
      "source": [
        "dataset.show()"
      ]
    },
    {
      "cell_type": "code",
      "execution_count": 13,
      "metadata": {
        "id": "kvNGvHOCYxGL"
      },
      "outputs": [],
      "source": [
        "\n",
        "df_clean = dataset.dropna(subset=['Gender', 'Age', 'Occupation', 'Zip-code'])\n"
      ]
    },
    {
      "cell_type": "code",
      "source": [
        "df_clean.show()"
      ],
      "metadata": {
        "colab": {
          "base_uri": "https://localhost:8080/"
        },
        "id": "BMBVcwnbn8Aj",
        "outputId": "6e0b188f-de07-4f0c-c4e7-03971f986458"
      },
      "execution_count": 14,
      "outputs": [
        {
          "output_type": "stream",
          "name": "stdout",
          "text": [
            "+------+-------+------+---------+--------------------+--------------------+------+---+----------+--------+------------------+-------------------+-----------------+------------------+\n",
            "|Userid|Movieid|Rating|Timestamp|               Title|               Genre|Gender|Age|Occupation|Zip-code|  Avg_Movie_Rating|Median_Movie_Rating|  Avg_User_Rating|Median_User_Rating|\n",
            "+------+-------+------+---------+--------------------+--------------------+------+---+----------+--------+------------------+-------------------+-----------------+------------------+\n",
            "|     1|      1|     5|978824268|    Toy Story (1995)|Animation|Childre...|     F|  1|        10|   48067| 4.146846413095811|                  4|4.188679245283019|                 4|\n",
            "|     1|     48|     5|978824351|   Pocahontas (1995)|Animation|Childre...|     F|  1|        10|   48067|2.9764397905759163|                  3|4.188679245283019|                 4|\n",
            "|     1|    531|     4|978302149|Secret Garden, Th...|    Children's|Drama|     F|  1|        10|   48067| 3.769230769230769|                  4|4.188679245283019|                 4|\n",
            "|     1|    588|     4|978824268|      Aladdin (1992)|Animation|Childre...|     F|  1|        10|   48067| 3.788304959289415|                  4|4.188679245283019|                 4|\n",
            "|     1|    594|     4|978302268|Snow White and th...|Animation|Childre...|     F|  1|        10|   48067|3.8453473132372213|                  4|4.188679245283019|                 4|\n",
            "|     1|    914|     3|978301968| My Fair Lady (1964)|     Musical|Romance|     F|  1|        10|   48067| 4.154088050314465|                  4|4.188679245283019|                 4|\n",
            "|     1|    919|     4|978301368|Wizard of Oz, The...|Adventure|Childre...|     F|  1|        10|   48067| 4.247962747380675|                  4|4.188679245283019|                 4|\n",
            "|     1|   1028|     5|978301777| Mary Poppins (1964)|Children's|Comedy...|     F|  1|        10|   48067| 3.894164193867458|                  4|4.188679245283019|                 4|\n",
            "|     1|   1029|     5|978302205|        Dumbo (1941)|Animation|Childre...|     F|  1|        10|   48067| 3.688380281690141|                  4|4.188679245283019|                 4|\n",
            "|     1|   1035|     5|978301753|Sound of Music, T...|             Musical|     F|  1|        10|   48067| 3.931972789115646|                  4|4.188679245283019|                 4|\n",
            "|     1|   1197|     3|978302268|Princess Bride, T...|Action|Adventure|...|     F|  1|        10|   48067|4.3037100949094045|                  5|4.188679245283019|                 4|\n",
            "|     1|   1207|     4|978300719|To Kill a Mocking...|               Drama|     F|  1|        10|   48067| 4.425646551724138|                  5|4.188679245283019|                 4|\n",
            "|     1|   1270|     5|978300055|Back to the Futur...|       Comedy|Sci-Fi|     F|  1|        10|   48067|3.9903213317847466|                  4|4.188679245283019|                 4|\n",
            "|     1|   1721|     4|978300055|      Titanic (1997)|       Drama|Romance|     F|  1|        10|   48067|3.5834411384217333|                  4|4.188679245283019|                 4|\n",
            "|     1|   1961|     5|978301590|     Rain Man (1988)|               Drama|     F|  1|        10|   48067| 4.053383458646617|                  4|4.188679245283019|                 4|\n",
            "|     1|   2018|     4|978301777|        Bambi (1942)|Animation|Children's|     F|  1|        10|   48067| 3.738539898132428|                  4|4.188679245283019|                 4|\n",
            "|     1|   2294|     4|978824291|         Antz (1998)|Animation|Children's|     F|  1|        10|   48067| 3.483720930232558|                  4|4.188679245283019|                 4|\n",
            "|     1|   2355|     5|978824291|Bug's Life, A (1998)|Animation|Childre...|     F|  1|        10|   48067| 3.854374633000587|                  4|4.188679245283019|                 4|\n",
            "|     1|   2398|     4|978302281|Miracle on 34th S...|               Drama|     F|  1|        10|   48067| 3.960526315789474|                  4|4.188679245283019|                 4|\n",
            "|     1|   2692|     4|978301570|Run Lola Run (Lol...|Action|Crime|Romance|     F|  1|        10|   48067| 4.224813432835821|                  4|4.188679245283019|                 4|\n",
            "+------+-------+------+---------+--------------------+--------------------+------+---+----------+--------+------------------+-------------------+-----------------+------------------+\n",
            "only showing top 20 rows\n",
            "\n"
          ]
        }
      ]
    },
    {
      "cell_type": "markdown",
      "source": [
        "## Prétraitement des genres\n",
        "## 1. Séparation des genres multiples (ex: \"Action|Adventure\") en une liste\n",
        "## 2. Extraction de tous les genres uniques avec explode\n",
        "## 3. Ajout de colonnes binaires (one-hot encoding) pour chaque genre\n",
        "## 4. Conversion explicite du genre \"F\" en 1 et les autres en 0 dans la colonne \"Gender\"\n"
      ],
      "metadata": {
        "id": "C-bXs9fAlukG"
      }
    },
    {
      "cell_type": "code",
      "source": [
        "df_genres = df_clean.withColumn(\"Genre_split\", split(col(\"Genre\"), \"\\\\|\"))\n",
        "\n",
        "genres_exploded = df_genres.select(explode(col(\"Genre_split\")).alias(\"single_genre\"))\n",
        "all_genres = genres_exploded.distinct().rdd.flatMap(lambda x: x).collect()\n",
        "\n",
        "for genre in all_genres:\n",
        "    df_genres = df_genres.withColumn(f\"Genre_{genre}\",\n",
        "        when(array_contains(col(\"Genre_split\"), genre), 1).otherwise(0))\n",
        "df_genres = df_genres.withColumn(\"Gender\", when(col(\"Gender\") == \"F\", 0).otherwise(1))\n"
      ],
      "metadata": {
        "id": "tWygbCl-HgxZ"
      },
      "execution_count": 15,
      "outputs": []
    },
    {
      "cell_type": "markdown",
      "source": [
        "## Affichage du DataFrame avec colonnes binaires de genres\n",
        "## Chaque genre devient une colonne avec valeur 0 ou 1 selon présence pour le film\n"
      ],
      "metadata": {
        "id": "zVyNKKqemRBJ"
      }
    },
    {
      "cell_type": "code",
      "source": [
        "df_genres.show()"
      ],
      "metadata": {
        "colab": {
          "base_uri": "https://localhost:8080/"
        },
        "id": "Pyd1LxjAHlxZ",
        "outputId": "29b530e1-6053-4862-a729-49dfdcfc1852"
      },
      "execution_count": 16,
      "outputs": [
        {
          "output_type": "stream",
          "name": "stdout",
          "text": [
            "+------+-------+------+---------+--------------------+--------------------+------+---+----------+--------+------------------+-------------------+-----------------+------------------+--------------------+-----------+-------------+--------------+---------------+-----------+----------------+---------+-----------------+-------------+-------------+-------------+---------------+-------------------------+---------------+------------+-------------+------------+------------+------------+\n",
            "|Userid|Movieid|Rating|Timestamp|               Title|               Genre|Gender|Age|Occupation|Zip-code|  Avg_Movie_Rating|Median_Movie_Rating|  Avg_User_Rating|Median_User_Rating|         Genre_split|Genre_Crime|Genre_Romance|Genre_Thriller|Genre_Adventure|Genre_Drama|Genre_Children's|Genre_War|Genre_Documentary|Genre_Fantasy|Genre_Mystery|Genre_Musical|Genre_Animation|Genre_ Miami Beach (1988)|Genre_Film-Noir|Genre_Horror|Genre_Western|Genre_Comedy|Genre_Action|Genre_Sci-Fi|\n",
            "+------+-------+------+---------+--------------------+--------------------+------+---+----------+--------+------------------+-------------------+-----------------+------------------+--------------------+-----------+-------------+--------------+---------------+-----------+----------------+---------+-----------------+-------------+-------------+-------------+---------------+-------------------------+---------------+------------+-------------+------------+------------+------------+\n",
            "|     1|      1|     5|978824268|    Toy Story (1995)|Animation|Childre...|     0|  1|        10|   48067| 4.146846413095811|                  4|4.188679245283019|                 4|[Animation, Child...|          0|            0|             0|              0|          0|               1|        0|                0|            0|            0|            0|              1|                        0|              0|           0|            0|           1|           0|           0|\n",
            "|     1|     48|     5|978824351|   Pocahontas (1995)|Animation|Childre...|     0|  1|        10|   48067|2.9764397905759163|                  3|4.188679245283019|                 4|[Animation, Child...|          0|            1|             0|              0|          0|               1|        0|                0|            0|            0|            1|              1|                        0|              0|           0|            0|           0|           0|           0|\n",
            "|     1|    531|     4|978302149|Secret Garden, Th...|    Children's|Drama|     0|  1|        10|   48067| 3.769230769230769|                  4|4.188679245283019|                 4| [Children's, Drama]|          0|            0|             0|              0|          1|               1|        0|                0|            0|            0|            0|              0|                        0|              0|           0|            0|           0|           0|           0|\n",
            "|     1|    588|     4|978824268|      Aladdin (1992)|Animation|Childre...|     0|  1|        10|   48067| 3.788304959289415|                  4|4.188679245283019|                 4|[Animation, Child...|          0|            0|             0|              0|          0|               1|        0|                0|            0|            0|            1|              1|                        0|              0|           0|            0|           1|           0|           0|\n",
            "|     1|    594|     4|978302268|Snow White and th...|Animation|Childre...|     0|  1|        10|   48067|3.8453473132372213|                  4|4.188679245283019|                 4|[Animation, Child...|          0|            0|             0|              0|          0|               1|        0|                0|            0|            0|            1|              1|                        0|              0|           0|            0|           0|           0|           0|\n",
            "|     1|    914|     3|978301968| My Fair Lady (1964)|     Musical|Romance|     0|  1|        10|   48067| 4.154088050314465|                  4|4.188679245283019|                 4|  [Musical, Romance]|          0|            1|             0|              0|          0|               0|        0|                0|            0|            0|            1|              0|                        0|              0|           0|            0|           0|           0|           0|\n",
            "|     1|    919|     4|978301368|Wizard of Oz, The...|Adventure|Childre...|     0|  1|        10|   48067| 4.247962747380675|                  4|4.188679245283019|                 4|[Adventure, Child...|          0|            0|             0|              1|          1|               1|        0|                0|            0|            0|            1|              0|                        0|              0|           0|            0|           0|           0|           0|\n",
            "|     1|   1028|     5|978301777| Mary Poppins (1964)|Children's|Comedy...|     0|  1|        10|   48067| 3.894164193867458|                  4|4.188679245283019|                 4|[Children's, Come...|          0|            0|             0|              0|          0|               1|        0|                0|            0|            0|            1|              0|                        0|              0|           0|            0|           1|           0|           0|\n",
            "|     1|   1029|     5|978302205|        Dumbo (1941)|Animation|Childre...|     0|  1|        10|   48067| 3.688380281690141|                  4|4.188679245283019|                 4|[Animation, Child...|          0|            0|             0|              0|          0|               1|        0|                0|            0|            0|            1|              1|                        0|              0|           0|            0|           0|           0|           0|\n",
            "|     1|   1035|     5|978301753|Sound of Music, T...|             Musical|     0|  1|        10|   48067| 3.931972789115646|                  4|4.188679245283019|                 4|           [Musical]|          0|            0|             0|              0|          0|               0|        0|                0|            0|            0|            1|              0|                        0|              0|           0|            0|           0|           0|           0|\n",
            "|     1|   1197|     3|978302268|Princess Bride, T...|Action|Adventure|...|     0|  1|        10|   48067|4.3037100949094045|                  5|4.188679245283019|                 4|[Action, Adventur...|          0|            1|             0|              1|          0|               0|        0|                0|            0|            0|            0|              0|                        0|              0|           0|            0|           1|           1|           0|\n",
            "|     1|   1207|     4|978300719|To Kill a Mocking...|               Drama|     0|  1|        10|   48067| 4.425646551724138|                  5|4.188679245283019|                 4|             [Drama]|          0|            0|             0|              0|          1|               0|        0|                0|            0|            0|            0|              0|                        0|              0|           0|            0|           0|           0|           0|\n",
            "|     1|   1270|     5|978300055|Back to the Futur...|       Comedy|Sci-Fi|     0|  1|        10|   48067|3.9903213317847466|                  4|4.188679245283019|                 4|    [Comedy, Sci-Fi]|          0|            0|             0|              0|          0|               0|        0|                0|            0|            0|            0|              0|                        0|              0|           0|            0|           1|           0|           1|\n",
            "|     1|   1721|     4|978300055|      Titanic (1997)|       Drama|Romance|     0|  1|        10|   48067|3.5834411384217333|                  4|4.188679245283019|                 4|    [Drama, Romance]|          0|            1|             0|              0|          1|               0|        0|                0|            0|            0|            0|              0|                        0|              0|           0|            0|           0|           0|           0|\n",
            "|     1|   1961|     5|978301590|     Rain Man (1988)|               Drama|     0|  1|        10|   48067| 4.053383458646617|                  4|4.188679245283019|                 4|             [Drama]|          0|            0|             0|              0|          1|               0|        0|                0|            0|            0|            0|              0|                        0|              0|           0|            0|           0|           0|           0|\n",
            "|     1|   2018|     4|978301777|        Bambi (1942)|Animation|Children's|     0|  1|        10|   48067| 3.738539898132428|                  4|4.188679245283019|                 4|[Animation, Child...|          0|            0|             0|              0|          0|               1|        0|                0|            0|            0|            0|              1|                        0|              0|           0|            0|           0|           0|           0|\n",
            "|     1|   2294|     4|978824291|         Antz (1998)|Animation|Children's|     0|  1|        10|   48067| 3.483720930232558|                  4|4.188679245283019|                 4|[Animation, Child...|          0|            0|             0|              0|          0|               1|        0|                0|            0|            0|            0|              1|                        0|              0|           0|            0|           0|           0|           0|\n",
            "|     1|   2355|     5|978824291|Bug's Life, A (1998)|Animation|Childre...|     0|  1|        10|   48067| 3.854374633000587|                  4|4.188679245283019|                 4|[Animation, Child...|          0|            0|             0|              0|          0|               1|        0|                0|            0|            0|            0|              1|                        0|              0|           0|            0|           1|           0|           0|\n",
            "|     1|   2398|     4|978302281|Miracle on 34th S...|               Drama|     0|  1|        10|   48067| 3.960526315789474|                  4|4.188679245283019|                 4|             [Drama]|          0|            0|             0|              0|          1|               0|        0|                0|            0|            0|            0|              0|                        0|              0|           0|            0|           0|           0|           0|\n",
            "|     1|   2692|     4|978301570|Run Lola Run (Lol...|Action|Crime|Romance|     0|  1|        10|   48067| 4.224813432835821|                  4|4.188679245283019|                 4|[Action, Crime, R...|          1|            1|             0|              0|          0|               0|        0|                0|            0|            0|            0|              0|                        0|              0|           0|            0|           0|           1|           0|\n",
            "+------+-------+------+---------+--------------------+--------------------+------+---+----------+--------+------------------+-------------------+-----------------+------------------+--------------------+-----------+-------------+--------------+---------------+-----------+----------------+---------+-----------------+-------------+-------------+-------------+---------------+-------------------------+---------------+------------+-------------+------------+------------+------------+\n",
            "only showing top 20 rows\n",
            "\n"
          ]
        }
      ]
    },
    {
      "cell_type": "markdown",
      "source": [
        "#2  Justification de l’absence de régression :\n",
        "\n",
        "#Nous n’avons pas réalisé de modèle de régression, car les données ne présentaient pas de relation linéaire exploitable entre les variables. Après avoir analysé et nettoyé le dataset, nous avons estimé que la régression n’était pas pertinente dans notre cas. Nous avons donc choisi de passer directement à la partie 3.1 du projet, en développant un système de recommandation basé sur la similarité entre films.\n",
        "\n"
      ],
      "metadata": {
        "id": "2o4xkhD4wWYZ"
      }
    },
    {
      "cell_type": "markdown",
      "source": [
        "#3.1"
      ],
      "metadata": {
        "id": "JL38FTFqmi30"
      }
    },
    {
      "cell_type": "markdown",
      "source": [
        "# Suggestion des films similaires\n",
        "## 1. On sélectionne les colonnes binaires de genre (hors \"Genre_split\") comme vecteur d’entrée.\n",
        "## 2. Utilisation de VectorAssembler pour combiner ces colonnes en un seul vecteur de genre.\n",
        "## 3. Récupération du vecteur du film cible (ici : \"Toy Story (1995)\").\n",
        "## 4. Définition d’une fonction de similarité cosinus et application à tous les films.\n",
        "## 5. Classement des films par similarité cosinus décroissante, puis par note moyenne décroissante.\n",
        "## Résultat : les 5 films les plus similaires au film cible sont affichés.\n"
      ],
      "metadata": {
        "id": "GidzVabymnOV"
      }
    },
    {
      "cell_type": "code",
      "source": [
        "from pyspark.ml.feature import VectorAssembler\n",
        "from pyspark.ml.linalg import Vectors\n",
        "from pyspark.sql.functions import col, lit, udf\n",
        "from pyspark.sql.types import DoubleType\n",
        "import math\n",
        "\n",
        "\n",
        "target_title = \"Toy Story (1995)\"\n",
        "top_n = 5\n",
        "\n",
        "genre_columns = [col for col in df_genres.columns if col.startswith(\"Genre_\") and col != \"Genre_split\"]\n",
        "\n",
        "assembler = VectorAssembler(inputCols=genre_columns, outputCol=\"genre_vector\")\n",
        "df_vect = assembler.transform(df_genres).select(\"Title\", \"genre_vector\", \"Avg_Movie_Rating\").dropDuplicates([\"Title\"])\n",
        "\n",
        "target_vector = df_vect.filter(col(\"Title\") == target_title).select(\"genre_vector\").collect()\n",
        "\n",
        "if target_vector:\n",
        "    target_vec = target_vector[0][\"genre_vector\"]\n",
        "\n",
        "    def cosine_similarity(v1, v2):\n",
        "        dot = float(v1.dot(v2))\n",
        "        norm1 = math.sqrt(v1.dot(v1))\n",
        "        norm2 = math.sqrt(v2.dot(v2))\n",
        "        if norm1 == 0.0 or norm2 == 0.0:\n",
        "            return 0.0\n",
        "        return dot / (norm1 * norm2)\n",
        "\n",
        "    cosine_sim_udf = udf(lambda x: float(cosine_similarity(target_vec, x)), DoubleType())\n",
        "\n",
        "    df_sim = df_vect.withColumn(\"cosine_similarity\", cosine_sim_udf(col(\"genre_vector\")))\n",
        "\n",
        "    top_similar = df_sim.filter(col(\"Title\") != target_title) \\\n",
        "                        .orderBy(col(\"cosine_similarity\").desc(), col(\"Avg_Movie_Rating\").desc()) \\\n",
        "                        .select(\"Title\", \"cosine_similarity\", \"Avg_Movie_Rating\") \\\n",
        "                        .limit(top_n)\n",
        "\n",
        "    top_similar.show(truncate=False)\n",
        "\n",
        "else:\n",
        "    print(f\"Le film '{target_title}' n'a pas été trouvé dans le dataset.\")"
      ],
      "metadata": {
        "colab": {
          "base_uri": "https://localhost:8080/"
        },
        "id": "cSafuUO6t8k5",
        "outputId": "8e354000-5c34-441b-d6a2-8e5a8463e4f8"
      },
      "execution_count": 17,
      "outputs": [
        {
          "output_type": "stream",
          "name": "stdout",
          "text": [
            "+------------------------+------------------+------------------+\n",
            "|Title                   |cosine_similarity |Avg_Movie_Rating  |\n",
            "+------------------------+------------------+------------------+\n",
            "|Toy Story 2 (1999)      |1.0000000000000002|4.218927444794953 |\n",
            "|Chicken Run (2000)      |1.0000000000000002|3.8796087283671934|\n",
            "|Bug's Life, A (1998)    |1.0000000000000002|3.854374633000587 |\n",
            "|American Tail, An (1986)|1.0000000000000002|3.4282178217821784|\n",
            "|Saludos Amigos (1943)   |1.0000000000000002|3.066666666666667 |\n",
            "+------------------------+------------------+------------------+\n",
            "\n"
          ]
        }
      ]
    },
    {
      "cell_type": "markdown",
      "source": [
        "## Suggestion aléatoire de films similaires\n",
        "## Cette cellule reprend le principe de la similarité cosinus mais avec un titre de film sélectionné aléatoirement.\n",
        "## Étapes :\n",
        "## 1. Construction du vecteur des genres pour tous les films.\n",
        "## 2. Sélection aléatoire d’un titre depuis la liste des films disponibles.\n",
        "## 3. Calcul du vecteur du film cible et de la similarité cosinus avec les autres films.\n",
        "## 4. Affichage des films les plus similaires à celui choisi, triés par similarité et note moyenne.\n"
      ],
      "metadata": {
        "id": "48agWW5bnHRF"
      }
    },
    {
      "cell_type": "code",
      "source": [
        "from pyspark.ml.feature import VectorAssembler\n",
        "from pyspark.ml.linalg import Vectors\n",
        "from pyspark.sql.functions import col, lit, udf\n",
        "from pyspark.sql.types import DoubleType\n",
        "import math\n",
        "import random\n",
        "\n",
        "top_n = 5\n",
        "genre_columns = [col for col in df_genres.columns if col.startswith(\"Genre_\") and col != \"Genre_split\"]\n",
        "\n",
        "\n",
        "assembler = VectorAssembler(inputCols=genre_columns, outputCol=\"genre_vector\")\n",
        "df_vect = assembler.transform(df_genres).select(\"Title\", \"genre_vector\", \"Avg_Movie_Rating\").dropDuplicates([\"Title\"])\n",
        "\n",
        "\n",
        "titles = df_vect.select(\"Title\").rdd.map(lambda r: r[0]).collect()\n",
        "target_title = random.choice(titles)\n",
        "print(f\"Titre choisi aléatoirement : {target_title}\")\n",
        "\n",
        "\n",
        "target_vector = df_vect.filter(col(\"Title\") == target_title).select(\"genre_vector\").collect()\n",
        "\n",
        "if target_vector:\n",
        "    target_vec = target_vector[0][\"genre_vector\"]\n",
        "\n",
        "\n",
        "    def cosine_similarity(v1, v2):\n",
        "        dot = float(v1.dot(v2))\n",
        "        norm1 = math.sqrt(v1.dot(v1))\n",
        "        norm2 = math.sqrt(v2.dot(v2))\n",
        "        if norm1 == 0.0 or norm2 == 0.0:\n",
        "            return 0.0\n",
        "        return dot / (norm1 * norm2)\n",
        "\n",
        "    cosine_sim_udf = udf(lambda x: float(cosine_similarity(target_vec, x)), DoubleType())\n",
        "\n",
        "\n",
        "    df_sim = df_vect.withColumn(\"cosine_similarity\", cosine_sim_udf(col(\"genre_vector\")))\n",
        "\n",
        "    top_similar = df_sim.filter(col(\"Title\") != target_title) \\\n",
        "                        .orderBy(col(\"cosine_similarity\").desc(), col(\"Avg_Movie_Rating\").desc()) \\\n",
        "                        .select(\"Title\", \"cosine_similarity\", \"Avg_Movie_Rating\") \\\n",
        "                        .limit(top_n)\n",
        "\n",
        "    top_similar.show(truncate=False)\n",
        "\n",
        "else:\n",
        "    print(f\"Le film '{target_title}' n'a pas été trouvé dans le dataset.\")\n"
      ],
      "metadata": {
        "colab": {
          "base_uri": "https://localhost:8080/"
        },
        "id": "m0O3boGxgh8U",
        "outputId": "ce72d5ed-9008-4bb5-89d4-4454c9ce728b"
      },
      "execution_count": 18,
      "outputs": [
        {
          "output_type": "stream",
          "name": "stdout",
          "text": [
            "Titre choisi aléatoirement : Damien\n",
            "+-----------------------------------------+-----------------+----------------+\n",
            "|Title                                    |cosine_similarity|Avg_Movie_Rating|\n",
            "+-----------------------------------------+-----------------+----------------+\n",
            "|Lured (1947)                             |0.0              |5.0             |\n",
            "|Song of Freedom (1936)                   |0.0              |5.0             |\n",
            "|One Little Indian (1973)                 |0.0              |5.0             |\n",
            "|Bittersweet Motel (2000)                 |0.0              |5.0             |\n",
            "|Schlafes Bruder (Brother of Sleep) (1995)|0.0              |5.0             |\n",
            "+-----------------------------------------+-----------------+----------------+\n",
            "\n"
          ]
        }
      ]
    },
    {
      "cell_type": "markdown",
      "source": [
        "#3.2"
      ],
      "metadata": {
        "id": "nf09gr9Nx-rY"
      }
    },
    {
      "cell_type": "markdown",
      "source": [
        "## Prédiction de notes utilisateurs\n",
        "## Objectif : prédire la note qu’un utilisateur donnerait à un film qu’il n’a pas encore noté.\n",
        "## Étapes principales :\n",
        "## 1. Regroupement des utilisateurs et films en clusters avec KMeans selon leurs patterns de notes.\n",
        "## 2. Récupération du cluster de l’utilisateur sélectionné.\n",
        "## 3. Recherche des films non encore notés par cet utilisateur.\n",
        "## 4. Calcul de la note moyenne donnée à ces films par les membres du même cluster.\n",
        "## 5. Affichage des recommandations avec les films prédits comme les mieux notés.\n"
      ],
      "metadata": {
        "id": "a4sNeaGIyAle"
      }
    },
    {
      "cell_type": "code",
      "source": [
        "from pyspark.ml.clustering import KMeans\n",
        "from pyspark.ml.feature import VectorAssembler\n",
        "from pyspark.sql.functions import col, avg, count\n",
        "\n",
        "\n",
        "spark = SparkSession.builder \\\n",
        "    .appName(\"MovieRecommenderCluster\") \\\n",
        "    .config(\"spark.driver.memory\", \"4g\") \\\n",
        "    .config(\"spark.executor.memory\", \"4g\") \\\n",
        "    .getOrCreate()\n",
        "\n",
        "\n",
        "ratings = df_clean.select(\"Userid\", \"Movieid\", \"Rating\")\n",
        "\n",
        "\n",
        "top_movies = ratings.groupBy(\"Movieid\").agg(count(\"*\").alias(\"n\")) \\\n",
        "    .orderBy(col(\"n\").desc()).limit(100)\n",
        "filtered_ratings = ratings.join(top_movies.select(\"Movieid\"), on=\"Movieid\")\n",
        "\n",
        "\n",
        "user_movie_matrix = filtered_ratings.groupBy(\"Userid\") \\\n",
        "    .pivot(\"Movieid\").avg(\"Rating\").na.fill(0)\n",
        "\n",
        "\n",
        "assembler = VectorAssembler(inputCols=user_movie_matrix.columns[1:], outputCol=\"features\")\n",
        "assembled_data = assembler.transform(user_movie_matrix)\n",
        "\n",
        "kmeans = KMeans(k=5, seed=1)\n",
        "model = kmeans.fit(assembled_data)\n",
        "\n",
        "user_clusters = model.transform(assembled_data) \\\n",
        "    .select(\"Userid\", \"prediction\") \\\n",
        "    .withColumnRenamed(\"prediction\", \"user_cluster\")\n",
        "\n",
        "\n",
        "ratings_with_clusters = filtered_ratings.join(user_clusters, on=\"Userid\")\n",
        "\n",
        "def recommander_films(user_id, top_n=5):\n",
        "    try:\n",
        "\n",
        "        user_cluster_id = user_clusters.filter(col(\"Userid\") == user_id) \\\n",
        "            .select(\"user_cluster\").first()[\"user_cluster\"]\n",
        "\n",
        "\n",
        "        films_notes = filtered_ratings.filter(col(\"Userid\") == user_id) \\\n",
        "            .select(\"Movieid\").distinct()\n",
        "\n",
        "\n",
        "        tous_films = filtered_ratings.select(\"Movieid\").distinct()\n",
        "        films_non_notes = tous_films.join(films_notes, on=\"Movieid\", how=\"left_anti\")\n",
        "\n",
        "        cluster_notes = ratings_with_clusters.filter(col(\"user_cluster\") == user_cluster_id)\n",
        "\n",
        "\n",
        "        recommendations_raw = cluster_notes.join(films_non_notes, on=\"Movieid\") \\\n",
        "            .groupBy(\"Movieid\") \\\n",
        "            .agg(avg(\"Rating\").alias(\"predicted_rating\")) \\\n",
        "            .orderBy(col(\"predicted_rating\").desc()) \\\n",
        "            .cache()\n",
        "\n",
        "        recommendations_raw.count()\n",
        "\n",
        "\n",
        "        df_titles = df_genres.select(col(\"Movieid\").cast(\"int\").alias(\"Movieid\"), \"Title\").dropDuplicates([\"Movieid\"])\n",
        "        recommandations_avec_titres = recommendations_raw.join(df_titles, on=\"Movieid\").dropDuplicates([\"Title\"])\n",
        "\n",
        "        top_recos = recommandations_avec_titres.orderBy(col(\"predicted_rating\").desc()).limit(top_n).collect()\n",
        "\n",
        "        if top_recos:\n",
        "            print(f\"\\n Top {top_n} recommandations pour l'utilisateur {user_id} :\")\n",
        "            for i, row in enumerate(top_recos, 1):\n",
        "                print(f\"{i}.  {row['Title']} (note estimée : {row['predicted_rating']:.2f})\")\n",
        "        else:\n",
        "            print(\" Aucun film à recommander (utilisateur a peut-être tout noté).\")\n",
        "\n",
        "    except Exception as e:\n",
        "        print(f\" Erreur pour l'utilisateur {user_id} : {str(e)}\")\n",
        "\n",
        "\n",
        "recommander_films(1234, top_n=5)\n"
      ],
      "metadata": {
        "id": "pk7fvp9imXmY",
        "colab": {
          "base_uri": "https://localhost:8080/"
        },
        "outputId": "01c408ae-9668-4395-fd4a-73de6fb9725c"
      },
      "execution_count": 20,
      "outputs": [
        {
          "output_type": "stream",
          "name": "stdout",
          "text": [
            "\n",
            "🎯 Top 5 recommandations pour l'utilisateur 1234 :\n",
            "1. 🎬 Dr. Strangelove or (note estimée : 4.48)\n",
            "2. 🎬 Shawshank Redemption, The (1994) (note estimée : 4.46)\n",
            "3. 🎬 Usual Suspects, The (1995) (note estimée : 4.45)\n",
            "4. 🎬 Sixth Sense, The (1999) (note estimée : 4.39)\n",
            "5. 🎬 Schindler's List (1993) (note estimée : 4.37)\n"
          ]
        }
      ]
    }
  ],
  "metadata": {
    "colab": {
      "provenance": []
    },
    "kernelspec": {
      "display_name": "Python 3",
      "name": "python3"
    },
    "language_info": {
      "name": "python"
    }
  },
  "nbformat": 4,
  "nbformat_minor": 0
}